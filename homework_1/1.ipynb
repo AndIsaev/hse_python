{
 "cells": [
  {
   "cell_type": "code",
   "execution_count": null,
   "metadata": {},
   "outputs": [
    {
     "name": "stdout",
     "output_type": "stream",
     "text": [
      "Результат для 'test': es\n",
      "Результат для 'testing': t\n"
     ]
    }
   ],
   "source": [
    "# Задание 1\n",
    "\n",
    "def find_middle(word: str) -> str:\n",
    "    length = len(word)\n",
    "    middle = length // 2\n",
    "    \n",
    "    if length % 2 == 0:\n",
    "        return word[middle - 1:middle + 1]\n",
    "    else:\n",
    "        return word[middle]\n",
    "\n",
    "word1 = 'test'\n",
    "result1 = find_middle(word1)\n",
    "print(f\"Результат для '{word1}': {result1}\")\n",
    "\n",
    "word2 = 'testing'\n",
    "result2 = find_middle(word2)\n",
    "print(f\"Результат для '{word2}': {result2}\")"
   ]
  },
  {
   "cell_type": "code",
   "execution_count": null,
   "metadata": {},
   "outputs": [
    {
     "name": "stdout",
     "output_type": "stream",
     "text": [
      "Идеальные пары:\n",
      "Alex и Emma\n",
      "Arthur и Kate\n",
      "John и Kira\n",
      "Peter и Liza\n",
      "Richard и Trisha\n",
      "\n",
      "Внимание, кто-то может остаться без пары!\n"
     ]
    }
   ],
   "source": [
    "# Задание 2\n",
    "\n",
    "boys1 = ['Peter', 'Alex', 'John', 'Arthur', 'Richard']\n",
    "girls1 = ['Kate', 'Liza', 'Kira', 'Emma', 'Trisha']\n",
    "\n",
    "boys2 = ['Peter', 'Alex', 'John', 'Arthur', 'Richard', 'Michael']\n",
    "girls2 = ['Kate', 'Liza', 'Kira', 'Emma', 'Trisha']\n",
    "\n",
    "def match_pairs(boys: list[str], girls: list[str]) -> None:\n",
    "    boys_sorted = sorted(boys)\n",
    "    girls_sorted = sorted(girls)\n",
    "    \n",
    "    if len(boys_sorted) != len(girls_sorted):\n",
    "        print(\"Внимание, кто-то может остаться без пары!\")\n",
    "    else:\n",
    "        print(\"Идеальные пары:\")\n",
    "        for boy, girl in zip(boys_sorted, girls_sorted):\n",
    "            print(f\"{boy} и {girl}\")\n",
    "\n",
    "match_pairs(boys1, girls1)\n",
    "print()\n",
    "match_pairs(boys2, girls2)\n"
   ]
  }
 ],
 "metadata": {
  "kernelspec": {
   "display_name": "venv",
   "language": "python",
   "name": "python3"
  },
  "language_info": {
   "codemirror_mode": {
    "name": "ipython",
    "version": 3
   },
   "file_extension": ".py",
   "mimetype": "text/x-python",
   "name": "python",
   "nbconvert_exporter": "python",
   "pygments_lexer": "ipython3",
   "version": "3.10.5"
  }
 },
 "nbformat": 4,
 "nbformat_minor": 2
}
