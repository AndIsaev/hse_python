{
 "cells": [
  {
   "cell_type": "code",
   "execution_count": 2,
   "metadata": {},
   "outputs": [
    {
     "name": "stdout",
     "output_type": "stream",
     "text": [
      "45\n",
      "45\n"
     ]
    }
   ],
   "source": [
    "def sum_distance(from_value, to_value):\n",
    "    if from_value > to_value:\n",
    "        from_value, to_value = to_value, from_value\n",
    "    \n",
    "    total_sum = sum(range(from_value, to_value + 1))\n",
    "    \n",
    "    return total_sum\n",
    "\n",
    "print(sum_distance(5, 10)) \n",
    "print(sum_distance(10, 5)) "
   ]
  },
  {
   "cell_type": "code",
   "execution_count": null,
   "metadata": {},
   "outputs": [
    {
     "name": "stdout",
     "output_type": "stream",
     "text": [
      "abcdefabcdef\n",
      "abcdef\n"
     ]
    }
   ],
   "source": [
    "def trim_and_repeat(string, offset=0, repetitions=1):\n",
    "    trimmed_string = string[offset:]\n",
    "    \n",
    "    result = trimmed_string * repetitions\n",
    "    \n",
    "    return result\n",
    "\n",
    "print(trim_and_repeat(\"abcdef\", 0, 2))  \n",
    "print(trim_and_repeat(\"abcdef\"))\n"
   ]
  }
 ],
 "metadata": {
  "kernelspec": {
   "display_name": "venv",
   "language": "python",
   "name": "python3"
  },
  "language_info": {
   "codemirror_mode": {
    "name": "ipython",
    "version": 3
   },
   "file_extension": ".py",
   "mimetype": "text/x-python",
   "name": "python",
   "nbconvert_exporter": "python",
   "pygments_lexer": "ipython3",
   "version": "3.10.5"
  }
 },
 "nbformat": 4,
 "nbformat_minor": 2
}
