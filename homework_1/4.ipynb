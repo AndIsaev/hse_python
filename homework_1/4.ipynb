{
 "cells": [
  {
   "cell_type": "code",
   "execution_count": 76,
   "metadata": {},
   "outputs": [
    {
     "name": "stdout",
     "output_type": "stream",
     "text": [
      "[{'1840e0b9d4': 'Продукты'}, {'1840e0b9d5': 'Яблоки'}, {'1840e0b9d6': 'Груши'}, {'1840e0b9d7': 'Вишня'}, {'1840e0b9d8': 'Апельсины'}, {'1840e0b9d9': 'Дыни'}, {'1840e0b9d0': 'Молоко'}]\n"
     ]
    }
   ],
   "source": [
    "# Задание 1\n",
    "import json\n",
    "import ast\n",
    "\n",
    "def read_file(path: str) -> list[str]:\n",
    "    json_purchases = list()\n",
    "    with open(path, 'r', encoding='utf-8') as file:\n",
    "        for line in file:\n",
    "            json_line = json.dumps(line)\n",
    "            json_purchases.append(json_line)\n",
    "    return json_purchases\n",
    "\n",
    "\n",
    "def to_dict(data: list[str]) -> list[dict[str, str]]:\n",
    "    purchases = list()\n",
    "\n",
    "    for line in data:\n",
    "        record = ast.literal_eval(json.loads(line))\n",
    "        purchases.append(record)\n",
    "        \n",
    "    return purchases\n",
    "\n",
    "if __name__ == \"__main__\":\n",
    "     json_lines = read_file('./purchase_log.txt')\n",
    "     print(to_dict(json_lines))\n",
    "        "
   ]
  }
 ],
 "metadata": {
  "kernelspec": {
   "display_name": "venv",
   "language": "python",
   "name": "python3"
  },
  "language_info": {
   "codemirror_mode": {
    "name": "ipython",
    "version": 3
   },
   "file_extension": ".py",
   "mimetype": "text/x-python",
   "name": "python",
   "nbconvert_exporter": "python",
   "pygments_lexer": "ipython3",
   "version": "3.10.5"
  }
 },
 "nbformat": 4,
 "nbformat_minor": 2
}
