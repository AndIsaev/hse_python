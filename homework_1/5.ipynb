{
 "cells": [
  {
   "cell_type": "code",
   "execution_count": null,
   "metadata": {},
   "outputs": [
    {
     "name": "stdout",
     "output_type": "stream",
     "text": [
      "The Moscow Times date as datetime: 2002-10-02 00:00:00\n",
      "The Guardian date as datetime: 2013-10-11 00:00:00\n",
      "Daily News date as datetime: 1977-08-18 00:00:00\n"
     ]
    }
   ],
   "source": [
    "# Задание 1\n",
    "from datetime import datetime\n",
    "\n",
    "# Исходные даты из газет\n",
    "moscow_times_date = \"Wednesday, October 2, 2002\"\n",
    "guardian_date = \"Friday, 11.10.13\"\n",
    "daily_news_date = \"Thursday, 18 August 1977\"\n",
    "\n",
    "# Соответствующие форматы дат\n",
    "moscow_times_format = \"%A, %B %d, %Y\"\n",
    "guardian_format = \"%A, %d.%m.%y\"\n",
    "daily_news_format = \"%A, %d %B %Y\"\n",
    "\n",
    "# Преобразование строковых дат в объекты datetime\n",
    "moscow_times_datetime = datetime.strptime(moscow_times_date, moscow_times_format)\n",
    "guardian_datetime = datetime.strptime(guardian_date, guardian_format)\n",
    "daily_news_datetime = datetime.strptime(daily_news_date, daily_news_format)\n",
    "\n",
    "# Вывод результата\n",
    "print(\"The Moscow Times date as datetime:\", moscow_times_datetime)\n",
    "print(\"The Guardian date as datetime:\", guardian_datetime)\n",
    "print(\"Daily News date as datetime:\", daily_news_datetime)"
   ]
  },
  {
   "cell_type": "code",
   "execution_count": 3,
   "metadata": {},
   "outputs": [
    {
     "name": "stdout",
     "output_type": "stream",
     "text": [
      "['2022-01-01', '2022-01-02', '2022-01-03']\n",
      "[]\n",
      "[]\n"
     ]
    }
   ],
   "source": [
    "# Задание 2\n",
    "\n",
    "from datetime import datetime, timedelta\n",
    "\n",
    "def date_range(start_date, end_date):\n",
    "    # Формат даты\n",
    "    date_format = \"%Y-%m-%d\"\n",
    "    \n",
    "    try:\n",
    "        # Преобразование строк в объекты datetime\n",
    "        start = datetime.strptime(start_date, date_format)\n",
    "        end = datetime.strptime(end_date, date_format)\n",
    "        \n",
    "        # Проверка корректности диапазона дат\n",
    "        if start > end:\n",
    "            return []\n",
    "        \n",
    "        # Генерация списка дат\n",
    "        date_list = []\n",
    "        current_date = start\n",
    "        while current_date <= end:\n",
    "            date_list.append(current_date.strftime(date_format))\n",
    "            current_date += timedelta(days=1)\n",
    "        \n",
    "        return date_list\n",
    "    \n",
    "    except ValueError:\n",
    "        # Возвращает пустой список в случае ошибки преобразования\n",
    "        return []\n",
    "\n",
    "# Примеры работы функции\n",
    "print(date_range('2022-01-01', '2022-01-03'))  # ['2022-01-01', '2022-01-02', '2022-01-03']\n",
    "print(date_range('2021-01-05', '2021-01-03'))  # []\n",
    "print(date_range('2021-01-05', 'bad_date'))    # []\n"
   ]
  }
 ],
 "metadata": {
  "kernelspec": {
   "display_name": "venv",
   "language": "python",
   "name": "python3"
  },
  "language_info": {
   "codemirror_mode": {
    "name": "ipython",
    "version": 3
   },
   "file_extension": ".py",
   "mimetype": "text/x-python",
   "name": "python",
   "nbconvert_exporter": "python",
   "pygments_lexer": "ipython3",
   "version": "3.10.5"
  }
 },
 "nbformat": 4,
 "nbformat_minor": 2
}
