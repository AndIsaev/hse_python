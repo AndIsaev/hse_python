{
 "cells": [
  {
   "cell_type": "code",
   "execution_count": null,
   "metadata": {},
   "outputs": [
    {
     "name": "stdout",
     "output_type": "stream",
     "text": [
      "Недостаточно денег на счёте для снятия.\n",
      "История операций: [{'type': 'deposit', 'amount': 500, 'balance_after': 1500}, {'type': 'withdraw', 'amount': 200, 'balance_after': 1300}]\n"
     ]
    }
   ],
   "source": [
    "class Account:\n",
    "    def __init__(self, name, initial_balance=0):\n",
    "        \"\"\"\n",
    "        Создание нового банковского аккаунта.\n",
    "        \n",
    "        :param name: Имя владельца счёта\n",
    "        :param initial_balance: Стартовый баланс\n",
    "        \"\"\"\n",
    "        self.name = name\n",
    "        self.balance = initial_balance\n",
    "        self.history = []\n",
    "\n",
    "    def deposit(self, amount):\n",
    "        \"\"\"\n",
    "        Положить деньги на счёт.\n",
    "        \n",
    "        :param amount: Сумма для внесения на счёт\n",
    "        \"\"\"\n",
    "        if amount > 0:\n",
    "            self.balance += amount\n",
    "            self.history.append({\n",
    "                'type': 'deposit',\n",
    "                'amount': amount,\n",
    "                'balance_after': self.balance\n",
    "            })\n",
    "        else:\n",
    "            print(\"Сумма пополнения должна быть больше нуля.\")\n",
    "\n",
    "    def withdraw(self, amount):\n",
    "        \"\"\"\n",
    "        Снять деньги со счёта.\n",
    "        \n",
    "        :param amount: Сумма для снятия со счёта\n",
    "        \"\"\"\n",
    "        if amount > 0:\n",
    "            if amount <= self.balance:\n",
    "                self.balance -= amount\n",
    "                self.history.append({\n",
    "                    'type': 'withdraw',\n",
    "                    'amount': amount,\n",
    "                    'balance_after': self.balance\n",
    "                })\n",
    "            else:\n",
    "                print(\"Недостаточно денег на счёте для снятия.\")\n",
    "        else:\n",
    "            print(\"Сумма снятия должна быть больше нуля.\")\n",
    "\n",
    "    def get_history(self):\n",
    "        \"\"\"\n",
    "        Получить историю операций.\n",
    "        \n",
    "        :return: История операций на счёте\n",
    "        \"\"\"\n",
    "        return self.history\n",
    "\n",
    "\n",
    "# Пример использования\n",
    "account = Account(\"Иван\", 1000)\n",
    "account.deposit(500)\n",
    "account.withdraw(200)\n",
    "account.withdraw(1500)  # Попытка снять больше, чем есть на счёте\n",
    "print(\"История операций:\", account.get_history())"
   ]
  }
 ],
 "metadata": {
  "kernelspec": {
   "display_name": "venv",
   "language": "python",
   "name": "python3"
  },
  "language_info": {
   "codemirror_mode": {
    "name": "ipython",
    "version": 3
   },
   "file_extension": ".py",
   "mimetype": "text/x-python",
   "name": "python",
   "nbconvert_exporter": "python",
   "pygments_lexer": "ipython3",
   "version": "3.10.5"
  }
 },
 "nbformat": 4,
 "nbformat_minor": 2
}
